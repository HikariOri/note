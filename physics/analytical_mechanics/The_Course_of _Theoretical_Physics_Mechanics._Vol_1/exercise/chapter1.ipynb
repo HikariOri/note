{
 "cells": [
  {
   "cell_type": "code",
   "execution_count": 152,
   "metadata": {},
   "outputs": [],
   "source": [
    "from sympy import *"
   ]
  },
  {
   "cell_type": "markdown",
   "metadata": {},
   "source": [
    "# 题 1"
   ]
  },
  {
   "cell_type": "code",
   "execution_count": 153,
   "metadata": {},
   "outputs": [],
   "source": [
    "t, l1, l2, m1, m2, g = symbols('t l_1 l_2 m_1 m_2 g')\n",
    "phi1 = Function('varphi_1')(t)\n",
    "phi2 = Function('varphi_2')(t)"
   ]
  },
  {
   "cell_type": "code",
   "execution_count": 154,
   "metadata": {},
   "outputs": [
    {
     "data": {
      "text/latex": [
       "$\\displaystyle \\frac{l_{1}^{2} m_{1} \\left(\\frac{d}{d t} \\varphi_{1}{\\left(t \\right)}\\right)^{2}}{2}$"
      ],
      "text/plain": [
       "l_1**2*m_1*Derivative(varphi_1(t), t)**2/2"
      ]
     },
     "execution_count": 154,
     "metadata": {},
     "output_type": "execute_result"
    }
   ],
   "source": [
    "T1 = Rational(1, 2) * m1 * l1**2 * phi1.diff(t)**2\n",
    "T1"
   ]
  },
  {
   "cell_type": "code",
   "execution_count": 155,
   "metadata": {},
   "outputs": [
    {
     "data": {
      "text/latex": [
       "$\\displaystyle - g l_{1} m_{1} \\cos{\\left(\\varphi_{1}{\\left(t \\right)} \\right)}$"
      ],
      "text/plain": [
       "-g*l_1*m_1*cos(varphi_1(t))"
      ]
     },
     "execution_count": 155,
     "metadata": {},
     "output_type": "execute_result"
    }
   ],
   "source": [
    "U1 = -m1*g*l1*cos(phi1)\n",
    "U1"
   ]
  },
  {
   "cell_type": "code",
   "execution_count": 156,
   "metadata": {},
   "outputs": [
    {
     "data": {
      "text/latex": [
       "$\\displaystyle l_{1} \\sin{\\left(\\varphi_{1}{\\left(t \\right)} \\right)} + l_{2} \\sin{\\left(\\varphi_{2}{\\left(t \\right)} \\right)}$"
      ],
      "text/plain": [
       "l_1*sin(varphi_1(t)) + l_2*sin(varphi_2(t))"
      ]
     },
     "execution_count": 156,
     "metadata": {},
     "output_type": "execute_result"
    }
   ],
   "source": [
    "x2 = l1*sin(phi1) +l2*sin(phi2)\n",
    "x2"
   ]
  },
  {
   "cell_type": "code",
   "execution_count": 157,
   "metadata": {},
   "outputs": [
    {
     "data": {
      "text/latex": [
       "$\\displaystyle l_{1} \\cos{\\left(\\varphi_{1}{\\left(t \\right)} \\right)} + l_{2} \\cos{\\left(\\varphi_{2}{\\left(t \\right)} \\right)}$"
      ],
      "text/plain": [
       "l_1*cos(varphi_1(t)) + l_2*cos(varphi_2(t))"
      ]
     },
     "execution_count": 157,
     "metadata": {},
     "output_type": "execute_result"
    }
   ],
   "source": [
    "y2 = l1*cos(phi1) + l2*cos(phi2)\n",
    "y2"
   ]
  },
  {
   "cell_type": "code",
   "execution_count": 158,
   "metadata": {},
   "outputs": [
    {
     "data": {
      "text/latex": [
       "$\\displaystyle \\frac{m_{2} \\left(l_{1}^{2} \\left(\\frac{d}{d t} \\varphi_{1}{\\left(t \\right)}\\right)^{2} + 2 l_{1} l_{2} \\cos{\\left(\\varphi_{1}{\\left(t \\right)} - \\varphi_{2}{\\left(t \\right)} \\right)} \\frac{d}{d t} \\varphi_{1}{\\left(t \\right)} \\frac{d}{d t} \\varphi_{2}{\\left(t \\right)} + l_{2}^{2} \\left(\\frac{d}{d t} \\varphi_{2}{\\left(t \\right)}\\right)^{2}\\right)}{2}$"
      ],
      "text/plain": [
       "m_2*(l_1**2*Derivative(varphi_1(t), t)**2 + 2*l_1*l_2*cos(varphi_1(t) - varphi_2(t))*Derivative(varphi_1(t), t)*Derivative(varphi_2(t), t) + l_2**2*Derivative(varphi_2(t), t)**2)/2"
      ]
     },
     "execution_count": 158,
     "metadata": {},
     "output_type": "execute_result"
    }
   ],
   "source": [
    "T2 = Rational(1, 2) * m2 * (x2.diff(t)**2 + y2.diff(t)**2)\n",
    "T2 = T2.expand().simplify()\n",
    "T2"
   ]
  },
  {
   "cell_type": "code",
   "execution_count": 159,
   "metadata": {},
   "outputs": [
    {
     "data": {
      "text/latex": [
       "$\\displaystyle - g m_{2} \\left(l_{1} \\cos{\\left(\\varphi_{1}{\\left(t \\right)} \\right)} + l_{2} \\cos{\\left(\\varphi_{2}{\\left(t \\right)} \\right)}\\right)$"
      ],
      "text/plain": [
       "-g*m_2*(l_1*cos(varphi_1(t)) + l_2*cos(varphi_2(t)))"
      ]
     },
     "execution_count": 159,
     "metadata": {},
     "output_type": "execute_result"
    }
   ],
   "source": [
    "U2 = -m2*g*l1*cos(phi1) - m2*g*l2*cos(phi2)\n",
    "U2 = U2.simplify()\n",
    "U2"
   ]
  },
  {
   "cell_type": "code",
   "execution_count": 160,
   "metadata": {},
   "outputs": [
    {
     "data": {
      "text/latex": [
       "$\\displaystyle \\frac{l_{1}^{2} m_{1} \\left(\\frac{d}{d t} \\varphi_{1}{\\left(t \\right)}\\right)^{2}}{2} + \\frac{l_{1}^{2} m_{2} \\left(\\frac{d}{d t} \\varphi_{1}{\\left(t \\right)}\\right)^{2}}{2} + l_{1} l_{2} m_{2} \\cos{\\left(\\varphi_{1}{\\left(t \\right)} - \\varphi_{2}{\\left(t \\right)} \\right)} \\frac{d}{d t} \\varphi_{1}{\\left(t \\right)} \\frac{d}{d t} \\varphi_{2}{\\left(t \\right)} + \\frac{l_{2}^{2} m_{2} \\left(\\frac{d}{d t} \\varphi_{2}{\\left(t \\right)}\\right)^{2}}{2}$"
      ],
      "text/plain": [
       "l_1**2*m_1*Derivative(varphi_1(t), t)**2/2 + l_1**2*m_2*Derivative(varphi_1(t), t)**2/2 + l_1*l_2*m_2*cos(varphi_1(t) - varphi_2(t))*Derivative(varphi_1(t), t)*Derivative(varphi_2(t), t) + l_2**2*m_2*Derivative(varphi_2(t), t)**2/2"
      ]
     },
     "execution_count": 160,
     "metadata": {},
     "output_type": "execute_result"
    }
   ],
   "source": [
    "T = T1 + T2\n",
    "T = T.expand().simplify()\n",
    "T"
   ]
  },
  {
   "cell_type": "code",
   "execution_count": 161,
   "metadata": {},
   "outputs": [
    {
     "data": {
      "text/latex": [
       "$\\displaystyle - g \\left(l_{1} m_{1} \\cos{\\left(\\varphi_{1}{\\left(t \\right)} \\right)} + l_{1} m_{2} \\cos{\\left(\\varphi_{1}{\\left(t \\right)} \\right)} + l_{2} m_{2} \\cos{\\left(\\varphi_{2}{\\left(t \\right)} \\right)}\\right)$"
      ],
      "text/plain": [
       "-g*(l_1*m_1*cos(varphi_1(t)) + l_1*m_2*cos(varphi_1(t)) + l_2*m_2*cos(varphi_2(t)))"
      ]
     },
     "execution_count": 161,
     "metadata": {},
     "output_type": "execute_result"
    }
   ],
   "source": [
    "U = U1 + U2\n",
    "U = U.expand().simplify()\n",
    "U"
   ]
  },
  {
   "cell_type": "code",
   "execution_count": 162,
   "metadata": {},
   "outputs": [
    {
     "data": {
      "text/latex": [
       "$\\displaystyle g l_{1} m_{1} \\cos{\\left(\\varphi_{1}{\\left(t \\right)} \\right)} + g l_{1} m_{2} \\cos{\\left(\\varphi_{1}{\\left(t \\right)} \\right)} + g l_{2} m_{2} \\cos{\\left(\\varphi_{2}{\\left(t \\right)} \\right)} + \\frac{l_{1}^{2} m_{1} \\left(\\frac{d}{d t} \\varphi_{1}{\\left(t \\right)}\\right)^{2}}{2} + \\frac{l_{1}^{2} m_{2} \\left(\\frac{d}{d t} \\varphi_{1}{\\left(t \\right)}\\right)^{2}}{2} + l_{1} l_{2} m_{2} \\cos{\\left(\\varphi_{1}{\\left(t \\right)} - \\varphi_{2}{\\left(t \\right)} \\right)} \\frac{d}{d t} \\varphi_{1}{\\left(t \\right)} \\frac{d}{d t} \\varphi_{2}{\\left(t \\right)} + \\frac{l_{2}^{2} m_{2} \\left(\\frac{d}{d t} \\varphi_{2}{\\left(t \\right)}\\right)^{2}}{2}$"
      ],
      "text/plain": [
       "g*l_1*m_1*cos(varphi_1(t)) + g*l_1*m_2*cos(varphi_1(t)) + g*l_2*m_2*cos(varphi_2(t)) + l_1**2*m_1*Derivative(varphi_1(t), t)**2/2 + l_1**2*m_2*Derivative(varphi_1(t), t)**2/2 + l_1*l_2*m_2*cos(varphi_1(t) - varphi_2(t))*Derivative(varphi_1(t), t)*Derivative(varphi_2(t), t) + l_2**2*m_2*Derivative(varphi_2(t), t)**2/2"
      ]
     },
     "execution_count": 162,
     "metadata": {},
     "output_type": "execute_result"
    }
   ],
   "source": [
    "L = T - U\n",
    "L = L.expand().simplify()\n",
    "L"
   ]
  },
  {
   "cell_type": "code",
   "execution_count": 163,
   "metadata": {},
   "outputs": [
    {
     "data": {
      "text/plain": [
       "[Eq(-g*l_1*m_1*sin(varphi_1(t)) - g*l_1*m_2*sin(varphi_1(t)) - l_1*l_2*m_2*sin(varphi_1(t) - varphi_2(t))*Derivative(varphi_1(t), t)*Derivative(varphi_2(t), t) - l_1*(l_1*m_1*Derivative(varphi_1(t), (t, 2)) + l_1*m_2*Derivative(varphi_1(t), (t, 2)) - l_2*m_2*(Derivative(varphi_1(t), t) - Derivative(varphi_2(t), t))*sin(varphi_1(t) - varphi_2(t))*Derivative(varphi_2(t), t) + l_2*m_2*cos(varphi_1(t) - varphi_2(t))*Derivative(varphi_2(t), (t, 2))), 0),\n",
       " Eq(-g*l_2*m_2*sin(varphi_2(t)) + l_1*l_2*m_2*sin(varphi_1(t) - varphi_2(t))*Derivative(varphi_1(t), t)*Derivative(varphi_2(t), t) - l_2*m_2*(-l_1*(Derivative(varphi_1(t), t) - Derivative(varphi_2(t), t))*sin(varphi_1(t) - varphi_2(t))*Derivative(varphi_1(t), t) + l_1*cos(varphi_1(t) - varphi_2(t))*Derivative(varphi_1(t), (t, 2)) + l_2*Derivative(varphi_2(t), (t, 2))), 0)]"
      ]
     },
     "execution_count": 163,
     "metadata": {},
     "output_type": "execute_result"
    }
   ],
   "source": [
    "ELs = euler_equations(L, [phi1, phi2])\n",
    "ELs"
   ]
  },
  {
   "cell_type": "code",
   "execution_count": 167,
   "metadata": {},
   "outputs": [
    {
     "data": {
      "text/latex": [
       "$\\displaystyle - g l_{1} m_{1} \\sin{\\left(\\varphi_{1}{\\left(t \\right)} \\right)} - g l_{1} m_{2} \\sin{\\left(\\varphi_{1}{\\left(t \\right)} \\right)} - l_{1}^{2} m_{1} \\frac{d^{2}}{d t^{2}} \\varphi_{1}{\\left(t \\right)} - l_{1}^{2} m_{2} \\frac{d^{2}}{d t^{2}} \\varphi_{1}{\\left(t \\right)} - l_{1} l_{2} m_{2} \\sin{\\left(\\varphi_{1}{\\left(t \\right)} - \\varphi_{2}{\\left(t \\right)} \\right)} \\left(\\frac{d}{d t} \\varphi_{2}{\\left(t \\right)}\\right)^{2} - l_{1} l_{2} m_{2} \\cos{\\left(\\varphi_{1}{\\left(t \\right)} - \\varphi_{2}{\\left(t \\right)} \\right)} \\frac{d^{2}}{d t^{2}} \\varphi_{2}{\\left(t \\right)} = 0$"
      ],
      "text/plain": [
       "Eq(-g*l_1*m_1*sin(varphi_1(t)) - g*l_1*m_2*sin(varphi_1(t)) - l_1**2*m_1*Derivative(varphi_1(t), (t, 2)) - l_1**2*m_2*Derivative(varphi_1(t), (t, 2)) - l_1*l_2*m_2*sin(varphi_1(t) - varphi_2(t))*Derivative(varphi_2(t), t)**2 - l_1*l_2*m_2*cos(varphi_1(t) - varphi_2(t))*Derivative(varphi_2(t), (t, 2)), 0)"
      ]
     },
     "execution_count": 167,
     "metadata": {},
     "output_type": "execute_result"
    }
   ],
   "source": [
    "ELs[0].expand()"
   ]
  },
  {
   "cell_type": "code",
   "execution_count": 166,
   "metadata": {},
   "outputs": [
    {
     "data": {
      "text/latex": [
       "$\\displaystyle - g l_{2} m_{2} \\sin{\\left(\\varphi_{2}{\\left(t \\right)} \\right)} + l_{1} l_{2} m_{2} \\sin{\\left(\\varphi_{1}{\\left(t \\right)} - \\varphi_{2}{\\left(t \\right)} \\right)} \\left(\\frac{d}{d t} \\varphi_{1}{\\left(t \\right)}\\right)^{2} - l_{1} l_{2} m_{2} \\cos{\\left(\\varphi_{1}{\\left(t \\right)} - \\varphi_{2}{\\left(t \\right)} \\right)} \\frac{d^{2}}{d t^{2}} \\varphi_{1}{\\left(t \\right)} - l_{2}^{2} m_{2} \\frac{d^{2}}{d t^{2}} \\varphi_{2}{\\left(t \\right)} = 0$"
      ],
      "text/plain": [
       "Eq(-g*l_2*m_2*sin(varphi_2(t)) + l_1*l_2*m_2*sin(varphi_1(t) - varphi_2(t))*Derivative(varphi_1(t), t)**2 - l_1*l_2*m_2*cos(varphi_1(t) - varphi_2(t))*Derivative(varphi_1(t), (t, 2)) - l_2**2*m_2*Derivative(varphi_2(t), (t, 2)), 0)"
      ]
     },
     "execution_count": 166,
     "metadata": {},
     "output_type": "execute_result"
    }
   ],
   "source": [
    "ELs[1].expand()"
   ]
  },
  {
   "cell_type": "markdown",
   "metadata": {},
   "source": [
    "# 题二"
   ]
  },
  {
   "cell_type": "code",
   "execution_count": null,
   "metadata": {},
   "outputs": [],
   "source": []
  },
  {
   "cell_type": "code",
   "execution_count": null,
   "metadata": {},
   "outputs": [],
   "source": []
  },
  {
   "cell_type": "code",
   "execution_count": null,
   "metadata": {},
   "outputs": [],
   "source": []
  }
 ],
 "metadata": {
  "kernelspec": {
   "display_name": "Python 3",
   "language": "python",
   "name": "python3"
  },
  "language_info": {
   "codemirror_mode": {
    "name": "ipython",
    "version": 3
   },
   "file_extension": ".py",
   "mimetype": "text/x-python",
   "name": "python",
   "nbconvert_exporter": "python",
   "pygments_lexer": "ipython3",
   "version": "3.10.7"
  }
 },
 "nbformat": 4,
 "nbformat_minor": 2
}
