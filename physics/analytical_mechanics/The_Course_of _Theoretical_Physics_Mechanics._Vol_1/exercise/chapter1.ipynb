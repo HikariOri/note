{
 "cells": [
  {
   "cell_type": "code",
   "execution_count": 13,
   "metadata": {},
   "outputs": [],
   "source": [
    "from sympy import *"
   ]
  },
  {
   "cell_type": "markdown",
   "metadata": {},
   "source": [
    "## E-L 方程\n",
    "\n",
    "$$\n",
    "\\frac{\\mathrm{d}}{\\mathrm{~d}x}\\frac{\\partial L}{\\partial \\dot{q}}-\\frac{\\partial L}{\\partial q}=0\n",
    "$$\n",
    "\n",
    "## 能量\n",
    "\n",
    "$$\n",
    "E=\\sum_i \\dot{q}\\frac{\\partial L}{\\partial \\dot{q}}-L\n",
    "$$\n",
    "\n",
    "如果 $L$ 中不含 $t$，且只含有 $\\dot{q}$ 二次齐次项，则：\n",
    "\n",
    "$$\n",
    "E = T+U\n",
    "$$\n",
    "\n",
    "如果 $L$ 中不含 $t$，且只有 $\\dot{q}$ 零次其次项、一次其次项和二次其次项，则：\n",
    "\n",
    "$$\n",
    "E=T^{2}-T^{0}+U\n",
    "$$\n",
    "\n",
    "## 动量\n",
    "\n",
    "$$\n",
    "\\boldsymbol{P}=\\sum_a \\frac{\\partial L}{\\partial \\boldsymbol{v_a}}\n",
    "$$\n",
    "\n",
    "$$\n",
    "\\boldsymbol{P}=\\sum_a m_a \\boldsymbol{v_a}\n",
    "$$\n",
    "\n",
    "广义动量：\n",
    "\n",
    "$$\n",
    "\\boldsymbol{P}_i=\\frac{\\partial L}{\\partial \\dot{q_i}}\n",
    "$$\n",
    "\n",
    "> 广义动量包含了通常的动量和角动量。\n",
    "\n",
    "广义力：\n",
    "\n",
    "$$\n",
    "\\boldsymbol{F}_i = \\frac{\\partial L}{\\partial q_i}\n",
    "$$\n",
    "\n",
    "显然：\n",
    "\n",
    "$$\n",
    "\\dot{\\boldsymbol{P}_i}=\\boldsymbol{F}_i\n",
    "$$\n",
    "\n",
    "## 质心\n",
    "\n",
    "质心参考系相对于惯性参考系的速度为：\n",
    "\n",
    "$$\n",
    "\\boldsymbol{V}=\\frac{\\boldsymbol{P}}{\\sum m_a}=\\frac{\\sum m_a \\boldsymbol{v}_a}{\\sum m_a}\n",
    "$$\n",
    "\n",
    "$\\boldsymbol{v}_a$ 为系统中各质点相对于同一惯性参考系的速度，$\\boldsymbol{V}$ 是系统相对于这一惯性参考系整体运动的速度。\n",
    "\n",
    "$$\n",
    "\\boldsymbol{R}=\\frac{\\sum m_a \\boldsymbol{r}_a}{\\sum m_a}\n",
    "$$\n",
    "\n",
    "如果 $\\boldsymbol{V}=\\dot{\\boldsymbol{R}}$，这个点即为系统的质点\n",
    "\n",
    "质点系中力学系统的能量称为内能 $E_{\\mathrm{int}}$，它包括系统内质点的相对运动动能呵呵相互作用势能。以速度 $\\boldsymbol{V}$ 做整体运动的系统的能量为：\n",
    "\n",
    "$$\n",
    "E = \\frac{1}{2}\\mu V^2+E_\\mathrm{int}\n",
    "$$\n",
    "\n",
    "其中 $\\displaystyle {\\mu = \\sum_a m_a}$ 为系统的总重量。\n",
    "\n",
    "### 柯尼希定理\n",
    "\n",
    "柯尼希定理说明了系统的动能等于质心的动能 $\\displaystyle{\\frac{\\mu V^2}{2}}$（系统整体运动的动能）与相对于质点运动的动能 $\\displaystyle T^{\\prime}=\\frac{1}{2\\sum_a m v_a^{\\prime ~ 2}}$ 之和，即：\n",
    "\n",
    "$$\n",
    "T = \\frac{1}{2}\\mu V^2 + \\frac{1}{2}\\sum_a m v_a^{\\prime~2}\n",
    "$$\n",
    "\n",
    "其中 $\\boldsymbol{V}=\\dot{\\boldsymbol{R}}$ 为系统质心的速度，$\\boldsymbol{v}_a^{\\prime}$ 为系统中各质点相对于质心参考系的速度。\n",
    "\n",
    "上述表述说明：柯尼希定理可以将系统的整体运动的动能与其他运动的动能分离开来。对于角动量，也可分为整体移动的角动量和相对于质心的角动量。\n",
    "\n",
    "将 $\\displaystyle {\\frac{1}{2}}\\sum_a m v_{a}^{\\prime~2}$ 与质点的相互作用势能 $U$ 相加就是内能，即：\n",
    "\n",
    "$$\n",
    "E_{int}=\\frac{1}{2}\\sum_a m v_{a}^{\\prime~2} + U\n",
    "$$\n",
    "\n",
    "> 注意：这里假定系统的相互作用势能与参考系无关，也就是说一般它仅与质点之间的相对位置 $\\boldsymbol{r}_a-\\boldsymbol{r}_b$ 有关，也可能依赖与时间 $t$，即 $U=U\\left(\\boldsymbol{r}_a-\\boldsymbol{r}_b,t \\right)$.\n",
    "\n",
    "如果系统是孤立的，则上面给出的能量公式就是这个系统的能量。\n",
    "\n",
    "### 质心参考系\n",
    "\n",
    "质心参考系定义为系统总动量为 0 的参考系。\n",
    "\n",
    "质心参考系有如下有些特点：\n",
    "\n",
    "1. 描述系统力学的一些物理量（如角动量、动能等）均可分解为与质心有关的部分和相对于质心参考系的部分，即与质心有关的部分可以与其他部分完全分离。如此一来，质心参考系中，与系统整体运动情况有关的部分完全不出现，只有涉及相对运动的部分。通常与相对运动有关的性质称为内禀性质，如果内禀角动量、内能等，这些都是与参考系无关的，是系统固有的。在热力学统计物理中，主要关注这样的相对运动。\n",
    "2. 质心相对于惯性参考系可以有加速度，质心参考系一般不是惯性参考系。但，相对于质心参考系，角动量定理和功能原理等具有与惯性参考系中完全相同的形式，其中不出现与惯性力有关部分。在质心参考系中，每个质点均受到惯性力 $-m_a \\ddot{\\boldsymbol{R}}$ 的作用，其对质心的力矩为：\n",
    "\n",
    "$$\n",
    "\\sum_a \\boldsymbol{r}^{\\prime}_{a}\\times(-m_a)\\ddot{\\boldsymbol{R}}=-\\left(\\sum_a m_a \\boldsymbol{r}^{\\prime}_{a}  \\right) \\times \\ddot{\\boldsymbol{R}}=0\n",
    "$$\n",
    "\n",
    "惯性力对系统所作元功为：\n",
    "\n",
    "$$\n",
    "\\mathrm{d}W=\\sum_a \\left(-m_a \\ddot{\\boldsymbol{R}}\\right)\\cdot \\mathrm{d}\\boldsymbol{r}_a^{\\prime}=-\\ddot{\\boldsymbol{R}}\\cdot \\mathrm{d}\\left(\\sum_a m_a \\boldsymbol{r}_a^{\\prime}\\right)=0\n",
    "$$\n",
    "\n",
    "3. 由于相对于质心参考系系统的总动量总对于 0，这对于在该参考系中处理碰撞、散射等问题将带来非常大的方便。\n",
    "\n",
    "## 角动量\n",
    "\n",
    "\n",
    "\n"
   ]
  },
  {
   "cell_type": "markdown",
   "metadata": {},
   "source": [
    "# 题 1"
   ]
  },
  {
   "cell_type": "code",
   "execution_count": 14,
   "metadata": {},
   "outputs": [],
   "source": [
    "t, l1, l2, m1, m2, g = symbols('t l_1 l_2 m_1 m_2 g')\n",
    "phi1 = Function('varphi_1')(t)\n",
    "phi2 = Function('varphi_2')(t)"
   ]
  },
  {
   "cell_type": "code",
   "execution_count": 15,
   "metadata": {},
   "outputs": [
    {
     "data": {
      "text/latex": [
       "$\\displaystyle \\frac{l_{1}^{2} m_{1} \\left(\\frac{d}{d t} \\varphi_{1}{\\left(t \\right)}\\right)^{2}}{2}$"
      ],
      "text/plain": [
       "l_1**2*m_1*Derivative(varphi_1(t), t)**2/2"
      ]
     },
     "execution_count": 15,
     "metadata": {},
     "output_type": "execute_result"
    }
   ],
   "source": [
    "T1 = Rational(1, 2) * m1 * l1**2 * phi1.diff(t)**2\n",
    "T1"
   ]
  },
  {
   "cell_type": "code",
   "execution_count": 16,
   "metadata": {},
   "outputs": [
    {
     "data": {
      "text/latex": [
       "$\\displaystyle - g l_{1} m_{1} \\cos{\\left(\\varphi_{1}{\\left(t \\right)} \\right)}$"
      ],
      "text/plain": [
       "-g*l_1*m_1*cos(varphi_1(t))"
      ]
     },
     "execution_count": 16,
     "metadata": {},
     "output_type": "execute_result"
    }
   ],
   "source": [
    "U1 = -m1*g*l1*cos(phi1)\n",
    "U1"
   ]
  },
  {
   "cell_type": "code",
   "execution_count": 17,
   "metadata": {},
   "outputs": [
    {
     "data": {
      "text/latex": [
       "$\\displaystyle l_{1} \\sin{\\left(\\varphi_{1}{\\left(t \\right)} \\right)} + l_{2} \\sin{\\left(\\varphi_{2}{\\left(t \\right)} \\right)}$"
      ],
      "text/plain": [
       "l_1*sin(varphi_1(t)) + l_2*sin(varphi_2(t))"
      ]
     },
     "execution_count": 17,
     "metadata": {},
     "output_type": "execute_result"
    }
   ],
   "source": [
    "x2 = l1*sin(phi1) +l2*sin(phi2)\n",
    "x2"
   ]
  },
  {
   "cell_type": "code",
   "execution_count": null,
   "metadata": {},
   "outputs": [
    {
     "data": {
      "text/latex": [
       "$\\displaystyle l_{1} \\cos{\\left(\\varphi_{1}{\\left(t \\right)} \\right)} \\frac{d}{d t} \\varphi_{1}{\\left(t \\right)} + l_{2} \\cos{\\left(\\varphi_{2}{\\left(t \\right)} \\right)} \\frac{d}{d t} \\varphi_{2}{\\left(t \\right)}$"
      ],
      "text/plain": [
       "l_1*cos(varphi_1(t))*Derivative(varphi_1(t), t) + l_2*cos(varphi_2(t))*Derivative(varphi_2(t), t)"
      ]
     },
     "execution_count": 18,
     "metadata": {},
     "output_type": "execute_result"
    }
   ],
   "source": [
    "y2 = l1*cos(phi1) + l2*cos(phi2)\n",
    "y2"
   ]
  },
  {
   "cell_type": "code",
   "execution_count": 29,
   "metadata": {},
   "outputs": [
    {
     "data": {
      "text/latex": [
       "$\\displaystyle l_{1} \\cos{\\left(\\varphi_{1}{\\left(t \\right)} \\right)} \\frac{d}{d t} \\varphi_{1}{\\left(t \\right)} + l_{2} \\cos{\\left(\\varphi_{2}{\\left(t \\right)} \\right)} \\frac{d}{d t} \\varphi_{2}{\\left(t \\right)}$"
      ],
      "text/plain": [
       "l_1*cos(varphi_1(t))*Derivative(varphi_1(t), t) + l_2*cos(varphi_2(t))*Derivative(varphi_2(t), t)"
      ]
     },
     "execution_count": 29,
     "metadata": {},
     "output_type": "execute_result"
    }
   ],
   "source": [
    "v2x = x2.diff(t)\n",
    "v2x"
   ]
  },
  {
   "cell_type": "code",
   "execution_count": 30,
   "metadata": {},
   "outputs": [
    {
     "data": {
      "text/latex": [
       "$\\displaystyle - l_{1} \\sin{\\left(\\varphi_{1}{\\left(t \\right)} \\right)} \\frac{d}{d t} \\varphi_{1}{\\left(t \\right)} - l_{2} \\sin{\\left(\\varphi_{2}{\\left(t \\right)} \\right)} \\frac{d}{d t} \\varphi_{2}{\\left(t \\right)}$"
      ],
      "text/plain": [
       "-l_1*sin(varphi_1(t))*Derivative(varphi_1(t), t) - l_2*sin(varphi_2(t))*Derivative(varphi_2(t), t)"
      ]
     },
     "execution_count": 30,
     "metadata": {},
     "output_type": "execute_result"
    }
   ],
   "source": [
    "v2y = y2.diff(t)\n",
    "v2y"
   ]
  },
  {
   "cell_type": "code",
   "execution_count": 31,
   "metadata": {},
   "outputs": [
    {
     "data": {
      "text/latex": [
       "$\\displaystyle \\frac{m_{2} \\left(l_{1}^{2} \\left(\\frac{d}{d t} \\varphi_{1}{\\left(t \\right)}\\right)^{2} + 2 l_{1} l_{2} \\cos{\\left(\\varphi_{1}{\\left(t \\right)} - \\varphi_{2}{\\left(t \\right)} \\right)} \\frac{d}{d t} \\varphi_{1}{\\left(t \\right)} \\frac{d}{d t} \\varphi_{2}{\\left(t \\right)} + l_{2}^{2} \\left(\\frac{d}{d t} \\varphi_{2}{\\left(t \\right)}\\right)^{2}\\right)}{2}$"
      ],
      "text/plain": [
       "m_2*(l_1**2*Derivative(varphi_1(t), t)**2 + 2*l_1*l_2*cos(varphi_1(t) - varphi_2(t))*Derivative(varphi_1(t), t)*Derivative(varphi_2(t), t) + l_2**2*Derivative(varphi_2(t), t)**2)/2"
      ]
     },
     "execution_count": 31,
     "metadata": {},
     "output_type": "execute_result"
    }
   ],
   "source": [
    "T2 = Rational(1, 2) * m2 * (v2x**2 + v2y**2)\n",
    "T2 = T2.expand().simplify()\n",
    "T2"
   ]
  },
  {
   "cell_type": "code",
   "execution_count": 32,
   "metadata": {},
   "outputs": [
    {
     "data": {
      "text/latex": [
       "$\\displaystyle - g m_{2} \\left(l_{1} \\cos{\\left(\\varphi_{1}{\\left(t \\right)} \\right)} + l_{2} \\cos{\\left(\\varphi_{2}{\\left(t \\right)} \\right)}\\right)$"
      ],
      "text/plain": [
       "-g*m_2*(l_1*cos(varphi_1(t)) + l_2*cos(varphi_2(t)))"
      ]
     },
     "execution_count": 32,
     "metadata": {},
     "output_type": "execute_result"
    }
   ],
   "source": [
    "U2 = -m2*g*l1*cos(phi1) - m2*g*l2*cos(phi2)\n",
    "U2 = U2.simplify()\n",
    "U2"
   ]
  },
  {
   "cell_type": "code",
   "execution_count": 33,
   "metadata": {},
   "outputs": [
    {
     "data": {
      "text/latex": [
       "$\\displaystyle \\frac{l_{1}^{2} m_{1} \\left(\\frac{d}{d t} \\varphi_{1}{\\left(t \\right)}\\right)^{2}}{2} + \\frac{l_{1}^{2} m_{2} \\left(\\frac{d}{d t} \\varphi_{1}{\\left(t \\right)}\\right)^{2}}{2} + l_{1} l_{2} m_{2} \\cos{\\left(\\varphi_{1}{\\left(t \\right)} - \\varphi_{2}{\\left(t \\right)} \\right)} \\frac{d}{d t} \\varphi_{1}{\\left(t \\right)} \\frac{d}{d t} \\varphi_{2}{\\left(t \\right)} + \\frac{l_{2}^{2} m_{2} \\left(\\frac{d}{d t} \\varphi_{2}{\\left(t \\right)}\\right)^{2}}{2}$"
      ],
      "text/plain": [
       "l_1**2*m_1*Derivative(varphi_1(t), t)**2/2 + l_1**2*m_2*Derivative(varphi_1(t), t)**2/2 + l_1*l_2*m_2*cos(varphi_1(t) - varphi_2(t))*Derivative(varphi_1(t), t)*Derivative(varphi_2(t), t) + l_2**2*m_2*Derivative(varphi_2(t), t)**2/2"
      ]
     },
     "execution_count": 33,
     "metadata": {},
     "output_type": "execute_result"
    }
   ],
   "source": [
    "T = T1 + T2\n",
    "T = T.expand().simplify()\n",
    "T"
   ]
  },
  {
   "cell_type": "code",
   "execution_count": 34,
   "metadata": {},
   "outputs": [
    {
     "data": {
      "text/latex": [
       "$\\displaystyle - g \\left(l_{1} m_{1} \\cos{\\left(\\varphi_{1}{\\left(t \\right)} \\right)} + l_{1} m_{2} \\cos{\\left(\\varphi_{1}{\\left(t \\right)} \\right)} + l_{2} m_{2} \\cos{\\left(\\varphi_{2}{\\left(t \\right)} \\right)}\\right)$"
      ],
      "text/plain": [
       "-g*(l_1*m_1*cos(varphi_1(t)) + l_1*m_2*cos(varphi_1(t)) + l_2*m_2*cos(varphi_2(t)))"
      ]
     },
     "execution_count": 34,
     "metadata": {},
     "output_type": "execute_result"
    }
   ],
   "source": [
    "U = U1 + U2\n",
    "U = U.expand().simplify()\n",
    "U"
   ]
  },
  {
   "cell_type": "code",
   "execution_count": 35,
   "metadata": {},
   "outputs": [
    {
     "data": {
      "text/latex": [
       "$\\displaystyle g l_{1} m_{1} \\cos{\\left(\\varphi_{1}{\\left(t \\right)} \\right)} + g l_{1} m_{2} \\cos{\\left(\\varphi_{1}{\\left(t \\right)} \\right)} + g l_{2} m_{2} \\cos{\\left(\\varphi_{2}{\\left(t \\right)} \\right)} + \\frac{l_{1}^{2} m_{1} \\left(\\frac{d}{d t} \\varphi_{1}{\\left(t \\right)}\\right)^{2}}{2} + \\frac{l_{1}^{2} m_{2} \\left(\\frac{d}{d t} \\varphi_{1}{\\left(t \\right)}\\right)^{2}}{2} + l_{1} l_{2} m_{2} \\cos{\\left(\\varphi_{1}{\\left(t \\right)} - \\varphi_{2}{\\left(t \\right)} \\right)} \\frac{d}{d t} \\varphi_{1}{\\left(t \\right)} \\frac{d}{d t} \\varphi_{2}{\\left(t \\right)} + \\frac{l_{2}^{2} m_{2} \\left(\\frac{d}{d t} \\varphi_{2}{\\left(t \\right)}\\right)^{2}}{2}$"
      ],
      "text/plain": [
       "g*l_1*m_1*cos(varphi_1(t)) + g*l_1*m_2*cos(varphi_1(t)) + g*l_2*m_2*cos(varphi_2(t)) + l_1**2*m_1*Derivative(varphi_1(t), t)**2/2 + l_1**2*m_2*Derivative(varphi_1(t), t)**2/2 + l_1*l_2*m_2*cos(varphi_1(t) - varphi_2(t))*Derivative(varphi_1(t), t)*Derivative(varphi_2(t), t) + l_2**2*m_2*Derivative(varphi_2(t), t)**2/2"
      ]
     },
     "execution_count": 35,
     "metadata": {},
     "output_type": "execute_result"
    }
   ],
   "source": [
    "L = T - U\n",
    "L = L.expand().simplify()\n",
    "L"
   ]
  },
  {
   "cell_type": "code",
   "execution_count": 36,
   "metadata": {},
   "outputs": [
    {
     "data": {
      "text/plain": [
       "[Eq(-g*l_1*m_1*sin(varphi_1(t)) - g*l_1*m_2*sin(varphi_1(t)) - l_1*l_2*m_2*sin(varphi_1(t) - varphi_2(t))*Derivative(varphi_1(t), t)*Derivative(varphi_2(t), t) - l_1*(l_1*m_1*Derivative(varphi_1(t), (t, 2)) + l_1*m_2*Derivative(varphi_1(t), (t, 2)) - l_2*m_2*(Derivative(varphi_1(t), t) - Derivative(varphi_2(t), t))*sin(varphi_1(t) - varphi_2(t))*Derivative(varphi_2(t), t) + l_2*m_2*cos(varphi_1(t) - varphi_2(t))*Derivative(varphi_2(t), (t, 2))), 0),\n",
       " Eq(-g*l_2*m_2*sin(varphi_2(t)) + l_1*l_2*m_2*sin(varphi_1(t) - varphi_2(t))*Derivative(varphi_1(t), t)*Derivative(varphi_2(t), t) - l_2*m_2*(-l_1*(Derivative(varphi_1(t), t) - Derivative(varphi_2(t), t))*sin(varphi_1(t) - varphi_2(t))*Derivative(varphi_1(t), t) + l_1*cos(varphi_1(t) - varphi_2(t))*Derivative(varphi_1(t), (t, 2)) + l_2*Derivative(varphi_2(t), (t, 2))), 0)]"
      ]
     },
     "execution_count": 36,
     "metadata": {},
     "output_type": "execute_result"
    }
   ],
   "source": [
    "ELs = euler_equations(L, [phi1, phi2])\n",
    "ELs"
   ]
  },
  {
   "cell_type": "code",
   "execution_count": 37,
   "metadata": {},
   "outputs": [
    {
     "data": {
      "text/latex": [
       "$\\displaystyle - g l_{1} m_{1} \\sin{\\left(\\varphi_{1}{\\left(t \\right)} \\right)} - g l_{1} m_{2} \\sin{\\left(\\varphi_{1}{\\left(t \\right)} \\right)} - l_{1}^{2} m_{1} \\frac{d^{2}}{d t^{2}} \\varphi_{1}{\\left(t \\right)} - l_{1}^{2} m_{2} \\frac{d^{2}}{d t^{2}} \\varphi_{1}{\\left(t \\right)} - l_{1} l_{2} m_{2} \\sin{\\left(\\varphi_{1}{\\left(t \\right)} - \\varphi_{2}{\\left(t \\right)} \\right)} \\left(\\frac{d}{d t} \\varphi_{2}{\\left(t \\right)}\\right)^{2} - l_{1} l_{2} m_{2} \\cos{\\left(\\varphi_{1}{\\left(t \\right)} - \\varphi_{2}{\\left(t \\right)} \\right)} \\frac{d^{2}}{d t^{2}} \\varphi_{2}{\\left(t \\right)} = 0$"
      ],
      "text/plain": [
       "Eq(-g*l_1*m_1*sin(varphi_1(t)) - g*l_1*m_2*sin(varphi_1(t)) - l_1**2*m_1*Derivative(varphi_1(t), (t, 2)) - l_1**2*m_2*Derivative(varphi_1(t), (t, 2)) - l_1*l_2*m_2*sin(varphi_1(t) - varphi_2(t))*Derivative(varphi_2(t), t)**2 - l_1*l_2*m_2*cos(varphi_1(t) - varphi_2(t))*Derivative(varphi_2(t), (t, 2)), 0)"
      ]
     },
     "execution_count": 37,
     "metadata": {},
     "output_type": "execute_result"
    }
   ],
   "source": [
    "ELs[0].expand()"
   ]
  },
  {
   "cell_type": "code",
   "execution_count": 38,
   "metadata": {},
   "outputs": [
    {
     "data": {
      "text/latex": [
       "$\\displaystyle - g l_{2} m_{2} \\sin{\\left(\\varphi_{2}{\\left(t \\right)} \\right)} + l_{1} l_{2} m_{2} \\sin{\\left(\\varphi_{1}{\\left(t \\right)} - \\varphi_{2}{\\left(t \\right)} \\right)} \\left(\\frac{d}{d t} \\varphi_{1}{\\left(t \\right)}\\right)^{2} - l_{1} l_{2} m_{2} \\cos{\\left(\\varphi_{1}{\\left(t \\right)} - \\varphi_{2}{\\left(t \\right)} \\right)} \\frac{d^{2}}{d t^{2}} \\varphi_{1}{\\left(t \\right)} - l_{2}^{2} m_{2} \\frac{d^{2}}{d t^{2}} \\varphi_{2}{\\left(t \\right)} = 0$"
      ],
      "text/plain": [
       "Eq(-g*l_2*m_2*sin(varphi_2(t)) + l_1*l_2*m_2*sin(varphi_1(t) - varphi_2(t))*Derivative(varphi_1(t), t)**2 - l_1*l_2*m_2*cos(varphi_1(t) - varphi_2(t))*Derivative(varphi_1(t), (t, 2)) - l_2**2*m_2*Derivative(varphi_2(t), (t, 2)), 0)"
      ]
     },
     "execution_count": 38,
     "metadata": {},
     "output_type": "execute_result"
    }
   ],
   "source": [
    "ELs[1].expand()"
   ]
  },
  {
   "cell_type": "code",
   "execution_count": 44,
   "metadata": {},
   "outputs": [
    {
     "data": {
      "text/latex": [
       "$\\displaystyle - g l_{1} m_{1} \\cos{\\left(\\varphi_{1}{\\left(t \\right)} \\right)} - g l_{1} m_{2} \\cos{\\left(\\varphi_{1}{\\left(t \\right)} \\right)} - g l_{2} m_{2} \\cos{\\left(\\varphi_{2}{\\left(t \\right)} \\right)} + \\frac{l_{1}^{2} m_{1} \\left(\\frac{d}{d t} \\varphi_{1}{\\left(t \\right)}\\right)^{2}}{2} + \\frac{l_{1}^{2} m_{2} \\left(\\frac{d}{d t} \\varphi_{1}{\\left(t \\right)}\\right)^{2}}{2} + l_{1} l_{2} m_{2} \\cos{\\left(\\varphi_{1}{\\left(t \\right)} - \\varphi_{2}{\\left(t \\right)} \\right)} \\frac{d}{d t} \\varphi_{1}{\\left(t \\right)} \\frac{d}{d t} \\varphi_{2}{\\left(t \\right)} + \\frac{l_{2}^{2} m_{2} \\left(\\frac{d}{d t} \\varphi_{2}{\\left(t \\right)}\\right)^{2}}{2}$"
      ],
      "text/plain": [
       "-g*l_1*m_1*cos(varphi_1(t)) - g*l_1*m_2*cos(varphi_1(t)) - g*l_2*m_2*cos(varphi_2(t)) + l_1**2*m_1*Derivative(varphi_1(t), t)**2/2 + l_1**2*m_2*Derivative(varphi_1(t), t)**2/2 + l_1*l_2*m_2*cos(varphi_1(t) - varphi_2(t))*Derivative(varphi_1(t), t)*Derivative(varphi_2(t), t) + l_2**2*m_2*Derivative(varphi_2(t), t)**2/2"
      ]
     },
     "execution_count": 44,
     "metadata": {},
     "output_type": "execute_result"
    }
   ],
   "source": [
    "E = T + U\n",
    "E = E.expand().simplify()\n",
    "E"
   ]
  },
  {
   "cell_type": "markdown",
   "metadata": {},
   "source": [
    "# 题二"
   ]
  },
  {
   "cell_type": "code",
   "execution_count": null,
   "metadata": {},
   "outputs": [],
   "source": []
  },
  {
   "cell_type": "code",
   "execution_count": null,
   "metadata": {},
   "outputs": [],
   "source": []
  },
  {
   "cell_type": "code",
   "execution_count": null,
   "metadata": {},
   "outputs": [],
   "source": []
  },
  {
   "cell_type": "markdown",
   "metadata": {},
   "source": []
  }
 ],
 "metadata": {
  "kernelspec": {
   "display_name": "common",
   "language": "python",
   "name": "python3"
  },
  "language_info": {
   "codemirror_mode": {
    "name": "ipython",
    "version": 3
   },
   "file_extension": ".py",
   "mimetype": "text/x-python",
   "name": "python",
   "nbconvert_exporter": "python",
   "pygments_lexer": "ipython3",
   "version": "3.12.7"
  }
 },
 "nbformat": 4,
 "nbformat_minor": 2
}
