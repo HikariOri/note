{
 "cells": [
  {
   "cell_type": "code",
   "execution_count": 87,
   "metadata": {},
   "outputs": [],
   "source": [
    "from sympy import *"
   ]
  },
  {
   "cell_type": "markdown",
   "metadata": {},
   "source": [
    "# 题 1"
   ]
  },
  {
   "cell_type": "code",
   "execution_count": 88,
   "metadata": {},
   "outputs": [
    {
     "data": {
      "text/latex": [
       "$\\displaystyle \\left[\\begin{matrix}r{\\left(t \\right)} \\cos{\\left(\\varphi{\\left(t \\right)} \\right)}\\\\r{\\left(t \\right)} \\sin{\\left(\\varphi{\\left(t \\right)} \\right)}\\\\z{\\left(t \\right)}\\end{matrix}\\right]$"
      ],
      "text/plain": [
       "Matrix([\n",
       "[r(t)*cos(varphi(t))],\n",
       "[r(t)*sin(varphi(t))],\n",
       "[               z(t)]])"
      ]
     },
     "execution_count": 88,
     "metadata": {},
     "output_type": "execute_result"
    }
   ],
   "source": [
    "t, m = symbols('t m')\n",
    "r = Function('r')(t)\n",
    "phi = Function('varphi')(t)\n",
    "z = Function('z')(t)\n",
    "x = r*cos(phi)\n",
    "y = r*sin(phi)\n",
    "r = Matrix([x, y, z])\n",
    "r"
   ]
  },
  {
   "cell_type": "code",
   "execution_count": 89,
   "metadata": {},
   "outputs": [
    {
     "data": {
      "text/latex": [
       "$\\displaystyle \\left[\\begin{matrix}- r{\\left(t \\right)} \\sin{\\left(\\varphi{\\left(t \\right)} \\right)} \\frac{d}{d t} \\varphi{\\left(t \\right)} + \\cos{\\left(\\varphi{\\left(t \\right)} \\right)} \\frac{d}{d t} r{\\left(t \\right)}\\\\r{\\left(t \\right)} \\cos{\\left(\\varphi{\\left(t \\right)} \\right)} \\frac{d}{d t} \\varphi{\\left(t \\right)} + \\sin{\\left(\\varphi{\\left(t \\right)} \\right)} \\frac{d}{d t} r{\\left(t \\right)}\\\\\\frac{d}{d t} z{\\left(t \\right)}\\end{matrix}\\right]$"
      ],
      "text/plain": [
       "Matrix([\n",
       "[-r(t)*sin(varphi(t))*Derivative(varphi(t), t) + cos(varphi(t))*Derivative(r(t), t)],\n",
       "[ r(t)*cos(varphi(t))*Derivative(varphi(t), t) + sin(varphi(t))*Derivative(r(t), t)],\n",
       "[                                                               Derivative(z(t), t)]])"
      ]
     },
     "execution_count": 89,
     "metadata": {},
     "output_type": "execute_result"
    }
   ],
   "source": [
    "dx = x.diff(t)\n",
    "dy = y.diff(t)\n",
    "dz = z.diff(t)\n",
    "v = Matrix([dx, dy, dz])\n",
    "v"
   ]
  },
  {
   "cell_type": "code",
   "execution_count": 90,
   "metadata": {},
   "outputs": [
    {
     "data": {
      "text/latex": [
       "$\\displaystyle \\left[\\begin{matrix}m \\left(- \\left(r{\\left(t \\right)} \\cos{\\left(\\varphi{\\left(t \\right)} \\right)} \\frac{d}{d t} \\varphi{\\left(t \\right)} + \\sin{\\left(\\varphi{\\left(t \\right)} \\right)} \\frac{d}{d t} r{\\left(t \\right)}\\right) z{\\left(t \\right)} + r{\\left(t \\right)} \\sin{\\left(\\varphi{\\left(t \\right)} \\right)} \\frac{d}{d t} z{\\left(t \\right)}\\right)\\\\m \\left(\\left(- r{\\left(t \\right)} \\sin{\\left(\\varphi{\\left(t \\right)} \\right)} \\frac{d}{d t} \\varphi{\\left(t \\right)} + \\cos{\\left(\\varphi{\\left(t \\right)} \\right)} \\frac{d}{d t} r{\\left(t \\right)}\\right) z{\\left(t \\right)} - r{\\left(t \\right)} \\cos{\\left(\\varphi{\\left(t \\right)} \\right)} \\frac{d}{d t} z{\\left(t \\right)}\\right)\\\\m \\left(- \\left(- r{\\left(t \\right)} \\sin{\\left(\\varphi{\\left(t \\right)} \\right)} \\frac{d}{d t} \\varphi{\\left(t \\right)} + \\cos{\\left(\\varphi{\\left(t \\right)} \\right)} \\frac{d}{d t} r{\\left(t \\right)}\\right) r{\\left(t \\right)} \\sin{\\left(\\varphi{\\left(t \\right)} \\right)} + \\left(r{\\left(t \\right)} \\cos{\\left(\\varphi{\\left(t \\right)} \\right)} \\frac{d}{d t} \\varphi{\\left(t \\right)} + \\sin{\\left(\\varphi{\\left(t \\right)} \\right)} \\frac{d}{d t} r{\\left(t \\right)}\\right) r{\\left(t \\right)} \\cos{\\left(\\varphi{\\left(t \\right)} \\right)}\\right)\\end{matrix}\\right]$"
      ],
      "text/plain": [
       "Matrix([\n",
       "[                                                                                m*(-(r(t)*cos(varphi(t))*Derivative(varphi(t), t) + sin(varphi(t))*Derivative(r(t), t))*z(t) + r(t)*sin(varphi(t))*Derivative(z(t), t))],\n",
       "[                                                                                m*((-r(t)*sin(varphi(t))*Derivative(varphi(t), t) + cos(varphi(t))*Derivative(r(t), t))*z(t) - r(t)*cos(varphi(t))*Derivative(z(t), t))],\n",
       "[m*(-(-r(t)*sin(varphi(t))*Derivative(varphi(t), t) + cos(varphi(t))*Derivative(r(t), t))*r(t)*sin(varphi(t)) + (r(t)*cos(varphi(t))*Derivative(varphi(t), t) + sin(varphi(t))*Derivative(r(t), t))*r(t)*cos(varphi(t)))]])"
      ]
     },
     "execution_count": 90,
     "metadata": {},
     "output_type": "execute_result"
    }
   ],
   "source": [
    "M = m * r.cross(v)\n",
    "M"
   ]
  },
  {
   "cell_type": "code",
   "execution_count": 91,
   "metadata": {},
   "outputs": [
    {
     "data": {
      "text/latex": [
       "$\\displaystyle m \\left(- r{\\left(t \\right)} z{\\left(t \\right)} \\cos{\\left(\\varphi{\\left(t \\right)} \\right)} \\frac{d}{d t} \\varphi{\\left(t \\right)} + r{\\left(t \\right)} \\sin{\\left(\\varphi{\\left(t \\right)} \\right)} \\frac{d}{d t} z{\\left(t \\right)} - z{\\left(t \\right)} \\sin{\\left(\\varphi{\\left(t \\right)} \\right)} \\frac{d}{d t} r{\\left(t \\right)}\\right)$"
      ],
      "text/plain": [
       "m*(-r(t)*z(t)*cos(varphi(t))*Derivative(varphi(t), t) + r(t)*sin(varphi(t))*Derivative(z(t), t) - z(t)*sin(varphi(t))*Derivative(r(t), t))"
      ]
     },
     "execution_count": 91,
     "metadata": {},
     "output_type": "execute_result"
    }
   ],
   "source": [
    "Mx = M[0]\n",
    "Mx.expand().simplify()"
   ]
  },
  {
   "cell_type": "code",
   "execution_count": 92,
   "metadata": {},
   "outputs": [
    {
     "data": {
      "text/latex": [
       "$\\displaystyle m \\left(- r{\\left(t \\right)} z{\\left(t \\right)} \\sin{\\left(\\varphi{\\left(t \\right)} \\right)} \\frac{d}{d t} \\varphi{\\left(t \\right)} - r{\\left(t \\right)} \\cos{\\left(\\varphi{\\left(t \\right)} \\right)} \\frac{d}{d t} z{\\left(t \\right)} + z{\\left(t \\right)} \\cos{\\left(\\varphi{\\left(t \\right)} \\right)} \\frac{d}{d t} r{\\left(t \\right)}\\right)$"
      ],
      "text/plain": [
       "m*(-r(t)*z(t)*sin(varphi(t))*Derivative(varphi(t), t) - r(t)*cos(varphi(t))*Derivative(z(t), t) + z(t)*cos(varphi(t))*Derivative(r(t), t))"
      ]
     },
     "execution_count": 92,
     "metadata": {},
     "output_type": "execute_result"
    }
   ],
   "source": [
    "My = M[1]\n",
    "My.expand().simplify()"
   ]
  },
  {
   "cell_type": "code",
   "execution_count": 93,
   "metadata": {},
   "outputs": [
    {
     "data": {
      "text/latex": [
       "$\\displaystyle m r^{2}{\\left(t \\right)} \\frac{d}{d t} \\varphi{\\left(t \\right)}$"
      ],
      "text/plain": [
       "m*r(t)**2*Derivative(varphi(t), t)"
      ]
     },
     "execution_count": 93,
     "metadata": {},
     "output_type": "execute_result"
    }
   ],
   "source": [
    "Mz = M[2]\n",
    "Mz.expand().simplify()"
   ]
  },
  {
   "cell_type": "code",
   "execution_count": 94,
   "metadata": {},
   "outputs": [
    {
     "data": {
      "text/latex": [
       "$\\displaystyle m^{2} \\left(\\left(- r{\\left(t \\right)} \\sin{\\left(\\varphi{\\left(t \\right)} \\right)} \\frac{d}{d t} \\varphi{\\left(t \\right)} + \\cos{\\left(\\varphi{\\left(t \\right)} \\right)} \\frac{d}{d t} r{\\left(t \\right)}\\right) z{\\left(t \\right)} - r{\\left(t \\right)} \\cos{\\left(\\varphi{\\left(t \\right)} \\right)} \\frac{d}{d t} z{\\left(t \\right)}\\right)^{2} + m^{2} \\left(- \\left(r{\\left(t \\right)} \\cos{\\left(\\varphi{\\left(t \\right)} \\right)} \\frac{d}{d t} \\varphi{\\left(t \\right)} + \\sin{\\left(\\varphi{\\left(t \\right)} \\right)} \\frac{d}{d t} r{\\left(t \\right)}\\right) z{\\left(t \\right)} + r{\\left(t \\right)} \\sin{\\left(\\varphi{\\left(t \\right)} \\right)} \\frac{d}{d t} z{\\left(t \\right)}\\right)^{2} + m^{2} \\left(- \\left(- r{\\left(t \\right)} \\sin{\\left(\\varphi{\\left(t \\right)} \\right)} \\frac{d}{d t} \\varphi{\\left(t \\right)} + \\cos{\\left(\\varphi{\\left(t \\right)} \\right)} \\frac{d}{d t} r{\\left(t \\right)}\\right) r{\\left(t \\right)} \\sin{\\left(\\varphi{\\left(t \\right)} \\right)} + \\left(r{\\left(t \\right)} \\cos{\\left(\\varphi{\\left(t \\right)} \\right)} \\frac{d}{d t} \\varphi{\\left(t \\right)} + \\sin{\\left(\\varphi{\\left(t \\right)} \\right)} \\frac{d}{d t} r{\\left(t \\right)}\\right) r{\\left(t \\right)} \\cos{\\left(\\varphi{\\left(t \\right)} \\right)}\\right)^{2}$"
      ],
      "text/plain": [
       "m**2*((-r(t)*sin(varphi(t))*Derivative(varphi(t), t) + cos(varphi(t))*Derivative(r(t), t))*z(t) - r(t)*cos(varphi(t))*Derivative(z(t), t))**2 + m**2*(-(r(t)*cos(varphi(t))*Derivative(varphi(t), t) + sin(varphi(t))*Derivative(r(t), t))*z(t) + r(t)*sin(varphi(t))*Derivative(z(t), t))**2 + m**2*(-(-r(t)*sin(varphi(t))*Derivative(varphi(t), t) + cos(varphi(t))*Derivative(r(t), t))*r(t)*sin(varphi(t)) + (r(t)*cos(varphi(t))*Derivative(varphi(t), t) + sin(varphi(t))*Derivative(r(t), t))*r(t)*cos(varphi(t)))**2"
      ]
     },
     "execution_count": 94,
     "metadata": {},
     "output_type": "execute_result"
    }
   ],
   "source": [
    "Mx**2+My**2+Mz**2"
   ]
  },
  {
   "cell_type": "code",
   "execution_count": null,
   "metadata": {},
   "outputs": [],
   "source": []
  }
 ],
 "metadata": {
  "kernelspec": {
   "display_name": "common",
   "language": "python",
   "name": "python3"
  },
  "language_info": {
   "codemirror_mode": {
    "name": "ipython",
    "version": 3
   },
   "file_extension": ".py",
   "mimetype": "text/x-python",
   "name": "python",
   "nbconvert_exporter": "python",
   "pygments_lexer": "ipython3",
   "version": "3.12.7"
  }
 },
 "nbformat": 4,
 "nbformat_minor": 2
}
